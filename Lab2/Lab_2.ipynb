{
  "nbformat": 4,
  "nbformat_minor": 0,
  "metadata": {
    "kernelspec": {
      "display_name": "Python 3",
      "language": "python",
      "name": "python3"
    },
    "language_info": {
      "codemirror_mode": {
        "name": "ipython",
        "version": 2
      },
      "file_extension": ".py",
      "mimetype": "text/x-python",
      "name": "python",
      "nbconvert_exporter": "python",
      "pygments_lexer": "ipython2",
      "version": "2.7.6"
    },
    "pycharm": {
      "stem_cell": {
        "cell_type": "raw",
        "source": [],
        "metadata": {
          "collapsed": false
        }
      }
    },
    "colab": {
      "name": "Lab_2.ipynb",
      "provenance": []
    }
  },
  "cells": [
    {
      "cell_type": "markdown",
      "metadata": {
        "id": "nCi_99yMYIb1",
        "colab_type": "text"
      },
      "source": [
        "In this notebook you'll create your own bootstrap function following the bootstrap algorithm (check the lecture notes!)"
      ]
    },
    {
      "cell_type": "code",
      "metadata": {
        "pycharm": {
          "name": "#%%# Imports\n"
        },
        "id": "LY5zujI2YC37",
        "colab_type": "code",
        "colab": {}
      },
      "source": [
        "import matplotlib\n",
        "import pandas as pd\n",
        "import seaborn as sns\n",
        "import numpy as np\n",
        "\n"
      ],
      "execution_count": 0,
      "outputs": []
    },
    {
      "cell_type": "code",
      "metadata": {
        "id": "Eqkwj4SMY38t",
        "colab_type": "code",
        "colab": {}
      },
      "source": [
        "# Load the data\n",
        "df = pd.read_csv('https://raw.githubusercontent.com/albanda/CE888/master/lab2%20-%20bootstrap/customers.csv')\n",
        "data = df.values.T[1]"
      ],
      "execution_count": 0,
      "outputs": []
    },
    {
      "cell_type": "code",
      "metadata": {
        "pycharm": {
          "name": "#%%\n"
        },
        "id": "Gxvc_bScYC4H",
        "colab_type": "code",
        "colab": {}
      },
      "source": [
        "# Checking the notes from the lecture, create here your own bootstrap function:\n",
        "# 1. Create an array of samples of shape (n_iterations, sample_size)\n",
        "# 2. Calculate and save the mean of the array (this is \"data_mean\" that is returned by the function)\n",
        "# 3. In each iteration:\n",
        "# 3.1 Get the data corresponding to that iteration (new_samples[iteration, :])\n",
        "# 3.2 Calculate the mean of the iteration data and store it\n",
        "# (At this point you should have an array of n_iterations values)\n",
        "# 4. Calculate the lower and upper bounds for a 95% CI (hint: check the percentile function on Numpy)\n",
        "# 5. Return data_mean, and the lower and upper bounds of your interval\n",
        "def boostrap_mean(sample, sample_size, n_iterations):\n",
        "\tx = np.random.choice(sample,size=(n_iterations,sample_size))\t\n",
        "\tmean = np.mean(x, axis=1)\n",
        "\n",
        "\tcalc_mean = np.mean(mean)\n",
        "\tlower = np.percentile(mean, 2.5)\n",
        "\tupper = np.percentile(mean, 97.5)\n",
        "\tprint(upper, lower)\n",
        "\treturn calc_mean, lower, upper\n",
        "\n"
      ],
      "execution_count": 0,
      "outputs": []
    },
    {
      "cell_type": "code",
      "metadata": {
        "pycharm": {
          "name": "#%%\n"
        },
        "id": "AN7sEOcMYC4P",
        "colab_type": "code",
        "outputId": "2f076f8a-87e2-4260-bf4c-b4dd4b533408",
        "colab": {
          "base_uri": "https://localhost:8080/",
          "height": 1000
        }
      },
      "source": [
        "# Call your bootstrap function and plot the results\n",
        "\n",
        "boots = []\n",
        "for i in range(100, 100000, 1000):\n",
        "    boot = boostrap_mean(data, data.shape[0], i)\n",
        "    boots.append([i, boot[0], \"mean\"])\n",
        "    boots.append([i, boot[1], \"lower\"])\n",
        "    boots.append([i, boot[2], \"upper\"])\n",
        "\n",
        "df_boot = pd.DataFrame(boots, columns=['Boostrap Iterations', 'Mean', \"Value\"])\n",
        "sns_plot = sns.lmplot(df_boot.columns[0], df_boot.columns[1], data=df_boot, fit_reg=False, hue=\"Value\")\n",
        "\n",
        "sns_plot.axes[0, 0].set_ylim(0,)\n",
        "sns_plot.axes[0, 0].set_xlim(0, 100000)\n",
        "\n",
        "sns_plot.savefig(\"bootstrap_confidence.png\", bbox_inches='tight')\n",
        "sns_plot.savefig(\"bootstrap_confidence.pdf\", bbox_inches='tight')\n",
        "\n"
      ],
      "execution_count": 0,
      "outputs": [
        {
          "output_type": "stream",
          "text": [
            "12.401785714285712 6.707142857142857\n",
            "12.53749999999999 6.5339285714285715\n",
            "12.394642857142848 6.5\n",
            "12.537500000000007 6.5\n",
            "12.214285714285714 6.5\n",
            "12.428571428571429 6.428571428571429\n",
            "12.357142857142858 6.4625\n",
            "12.428571428571429 6.428571428571429\n",
            "12.428571428571429 6.428571428571429\n",
            "12.357142857142858 6.462500000000002\n",
            "12.285714285714286 6.5\n",
            "12.357142857142858 6.5\n",
            "12.357142857142858 6.428571428571429\n",
            "12.357142857142858 6.5\n",
            "12.357142857142858 6.428571428571429\n",
            "12.39464285714283 6.428571428571429\n",
            "12.357142857142858 6.428571428571429\n",
            "12.428571428571429 6.428571428571429\n",
            "12.357142857142858 6.428571428571429\n",
            "12.357142857142858 6.428571428571429\n",
            "12.357142857142858 6.428571428571429\n",
            "12.285714285714286 6.428571428571429\n",
            "12.428571428571429 6.428571428571429\n",
            "12.357142857142858 6.428571428571429\n",
            "12.357142857142858 6.428571428571429\n",
            "12.428571428571429 6.428571428571429\n",
            "12.357142857142858 6.428571428571429\n",
            "12.357142857142858 6.5\n",
            "12.428571428571429 6.428571428571429\n",
            "12.357142857142858 6.428571428571429\n",
            "12.357142857142858 6.428571428571429\n",
            "12.357142857142858 6.428571428571429\n",
            "12.357142857142858 6.428571428571429\n",
            "12.357142857142858 6.428571428571429\n",
            "12.357142857142858 6.428571428571429\n",
            "12.357142857142858 6.428571428571429\n",
            "12.357142857142858 6.428571428571429\n",
            "12.357142857142858 6.428571428571429\n",
            "12.357142857142858 6.428571428571429\n",
            "12.357142857142858 6.428571428571429\n",
            "12.428571428571429 6.428571428571429\n",
            "12.357142857142858 6.428571428571429\n",
            "12.357142857142858 6.428571428571429\n",
            "12.428571428571429 6.428571428571429\n",
            "12.357142857142858 6.428571428571429\n",
            "12.357142857142858 6.428571428571429\n",
            "12.285714285714286 6.428571428571429\n",
            "12.428571428571429 6.428571428571429\n",
            "12.357142857142858 6.428571428571429\n",
            "12.357142857142858 6.428571428571429\n",
            "12.428571428571429 6.428571428571429\n",
            "12.357142857142858 6.428571428571429\n",
            "12.357142857142858 6.428571428571429\n",
            "12.357142857142858 6.428571428571429\n",
            "12.357142857142858 6.428571428571429\n",
            "12.357142857142858 6.428571428571429\n",
            "12.357142857142858 6.428571428571429\n",
            "12.357142857142858 6.428571428571429\n",
            "12.357142857142858 6.428571428571429\n",
            "12.357142857142858 6.428571428571429\n",
            "12.357142857142858 6.428571428571429\n",
            "12.357142857142858 6.428571428571429\n",
            "12.357142857142858 6.428571428571429\n",
            "12.357142857142858 6.428571428571429\n",
            "12.357142857142858 6.428571428571429\n",
            "12.357142857142858 6.428571428571429\n",
            "12.357142857142858 6.428571428571429\n",
            "12.357142857142858 6.428571428571429\n",
            "12.357142857142858 6.428571428571429\n",
            "12.357142857142858 6.428571428571429\n",
            "12.357142857142858 6.428571428571429\n",
            "12.357142857142858 6.5\n",
            "12.357142857142858 6.428571428571429\n",
            "12.357142857142858 6.428571428571429\n",
            "12.357142857142858 6.428571428571429\n",
            "12.357142857142858 6.428571428571429\n",
            "12.357142857142858 6.428571428571429\n",
            "12.357142857142858 6.428571428571429\n",
            "12.357142857142858 6.428571428571429\n",
            "12.357142857142858 6.428571428571429\n",
            "12.357142857142858 6.428571428571429\n",
            "12.357142857142858 6.428571428571429\n",
            "12.357142857142858 6.428571428571429\n",
            "12.357142857142858 6.428571428571429\n",
            "12.357142857142858 6.428571428571429\n",
            "12.357142857142858 6.428571428571429\n",
            "12.357142857142858 6.428571428571429\n",
            "12.357142857142858 6.428571428571429\n",
            "12.357142857142858 6.428571428571429\n",
            "12.357142857142858 6.428571428571429\n",
            "12.357142857142858 6.428571428571429\n",
            "12.357142857142858 6.428571428571429\n",
            "12.357142857142858 6.428571428571429\n",
            "12.357142857142858 6.428571428571429\n",
            "12.357142857142858 6.428571428571429\n",
            "12.357142857142858 6.428571428571429\n",
            "12.357142857142858 6.428571428571429\n",
            "12.357142857142858 6.428571428571429\n",
            "12.357142857142858 6.428571428571429\n",
            "12.357142857142858 6.428571428571429\n"
          ],
          "name": "stdout"
        },
        {
          "output_type": "display_data",
          "data": {
            "image/png": "[encoded data removed]",
            "text/plain": [
              "<Figure size 425.125x360 with 1 Axes>"
            ]
          },
          "metadata": {
            "tags": []
          }
        }
      ]
    },
    {
      "cell_type": "markdown",
      "metadata": {
        "collapsed": false,
        "id": "MjtP4e2_YC4V",
        "colab_type": "text"
      },
      "source": [
        "\n",
        "Now, modify the bootstrap function so that you can pass your desired confidence interval as a parameter.\n",
        "\n"
      ]
    },
    {
      "cell_type": "code",
      "metadata": {
        "id": "3K9j0FuGYhHs",
        "colab_type": "code",
        "colab": {}
      },
      "source": [
        "\tdef boostrap_mean_ci(sample, sample_size, iterations, ci):\n",
        "\t\titerated = np.random.choice(sample,(iterations,sample_size))\n",
        "\t\tcalc_mean = np.mean(iterated)\n",
        "\t\tmy_mean = []\n",
        "\n",
        "\t\tfor i in range(iterations):\n",
        "  \t\tmean= np.mean(iterated [i, :])\t \n",
        "  \t\tmy_mean.insert(i,mean)\n",
        "\t\tl_pr = (100 - ci)/2\n",
        "\t\tu_pr = ((100 - ci)/2) + ci\n",
        "\t\tlower = np.percentile(my_mean, l_pr)\n",
        "\t\tupper = np.percentile(my_mean, u_pr)\n",
        "\t\treturn calc_mean, lower, upper"
      ],
      "execution_count": 0,
      "outputs": []
    },
    {
      "cell_type": "code",
      "metadata": {
        "id": "uDnjq08GYl-C",
        "colab_type": "code",
        "outputId": "626676d6-62a8-4466-bf66-2f641e98f6f2",
        "colab": {
          "base_uri": "https://localhost:8080/",
          "height": 368
        }
      },
      "source": [
        "\n",
        "boots = []\n",
        "for i in range(100, 100000, 1000):\n",
        "    boot = boostrap_mean_ci(data, data.shape[0], i, 80)\n",
        "    boots.append([i, boot[0], \"mean\"])\n",
        "    boots.append([i, boot[1], \"lower\"])\n",
        "    boots.append([i, boot[2], \"upper\"])\n",
        "\n",
        "df_boot = pd.DataFrame(boots, columns=['Boostrap Iterations', 'Mean', \"Value\"])\n",
        "sns_plot = sns.lmplot(df_boot.columns[0], df_boot.columns[1], data=df_boot, fit_reg=False, hue=\"Value\")\n",
        "\n",
        "sns_plot.axes[0, 0].set_ylim(0,)\n",
        "sns_plot.axes[0, 0].set_xlim(0, 100000)\n",
        "\n",
        "sns_plot.savefig(\"bootstrap_confidence_80.png\", bbox_inches='tight')\n",
        "sns_plot.savefig(\"bootstrap_confidence_80.pdf\", bbox_inches='tight')\n"
      ],
      "execution_count": 0,
      "outputs": [
        {
          "output_type": "display_data",
          "data": {
            "image/png": "[encoded data removed]",
            "text/plain": [
              "<Figure size 425.125x360 with 1 Axes>"
            ]
          },
          "metadata": {
            "tags": []
          }
        }
      ]
    },
    {
      "cell_type": "markdown",
      "metadata": {
        "id": "qjNgXW6wdd7r",
        "colab_type": "text"
      },
      "source": [
        "# Vehicles dataset\n",
        "\n",
        "Now let's work on a different dataset. Load the vehicles.csv file and check the Moodle page for instructions on how to proceed\n"
      ]
    },
    {
      "cell_type": "code",
      "metadata": {
        "id": "avWv4ipFdpka",
        "colab_type": "code",
        "outputId": "8e32ce42-cda7-491f-b71a-286fe277201a",
        "colab": {
          "base_uri": "https://localhost:8080/",
          "height": 406
        }
      },
      "source": [
        "\n",
        "# Load the data\n",
        "df = pd.read_csv('https://raw.githubusercontent.com/albanda/CE888/master/lab2%20-%20bootstrap/vehicles.csv')\n",
        "df"
      ],
      "execution_count": 0,
      "outputs": [
        {
          "output_type": "execute_result",
          "data": {
            "text/html": [
              "<div>\n",
              "<style scoped>\n",
              "    .dataframe tbody tr th:only-of-type {\n",
              "        vertical-align: middle;\n",
              "    }\n",
              "\n",
              "    .dataframe tbody tr th {\n",
              "        vertical-align: top;\n",
              "    }\n",
              "\n",
              "    .dataframe thead th {\n",
              "        text-align: right;\n",
              "    }\n",
              "</style>\n",
              "<table border=\"1\" class=\"dataframe\">\n",
              "  <thead>\n",
              "    <tr style=\"text-align: right;\">\n",
              "      <th></th>\n",
              "      <th>Current fleet</th>\n",
              "      <th>New Fleet</th>\n",
              "    </tr>\n",
              "  </thead>\n",
              "  <tbody>\n",
              "    <tr>\n",
              "      <th>0</th>\n",
              "      <td>18</td>\n",
              "      <td>24.0</td>\n",
              "    </tr>\n",
              "    <tr>\n",
              "      <th>1</th>\n",
              "      <td>15</td>\n",
              "      <td>27.0</td>\n",
              "    </tr>\n",
              "    <tr>\n",
              "      <th>2</th>\n",
              "      <td>18</td>\n",
              "      <td>27.0</td>\n",
              "    </tr>\n",
              "    <tr>\n",
              "      <th>3</th>\n",
              "      <td>16</td>\n",
              "      <td>25.0</td>\n",
              "    </tr>\n",
              "    <tr>\n",
              "      <th>4</th>\n",
              "      <td>17</td>\n",
              "      <td>31.0</td>\n",
              "    </tr>\n",
              "    <tr>\n",
              "      <th>...</th>\n",
              "      <td>...</td>\n",
              "      <td>...</td>\n",
              "    </tr>\n",
              "    <tr>\n",
              "      <th>244</th>\n",
              "      <td>27</td>\n",
              "      <td>NaN</td>\n",
              "    </tr>\n",
              "    <tr>\n",
              "      <th>245</th>\n",
              "      <td>27</td>\n",
              "      <td>NaN</td>\n",
              "    </tr>\n",
              "    <tr>\n",
              "      <th>246</th>\n",
              "      <td>32</td>\n",
              "      <td>NaN</td>\n",
              "    </tr>\n",
              "    <tr>\n",
              "      <th>247</th>\n",
              "      <td>28</td>\n",
              "      <td>NaN</td>\n",
              "    </tr>\n",
              "    <tr>\n",
              "      <th>248</th>\n",
              "      <td>31</td>\n",
              "      <td>NaN</td>\n",
              "    </tr>\n",
              "  </tbody>\n",
              "</table>\n",
              "<p>249 rows × 2 columns</p>\n",
              "</div>"
            ],
            "text/plain": [
              "     Current fleet  New Fleet\n",
              "0               18       24.0\n",
              "1               15       27.0\n",
              "2               18       27.0\n",
              "3               16       25.0\n",
              "4               17       31.0\n",
              "..             ...        ...\n",
              "244             27        NaN\n",
              "245             27        NaN\n",
              "246             32        NaN\n",
              "247             28        NaN\n",
              "248             31        NaN\n",
              "\n",
              "[249 rows x 2 columns]"
            ]
          },
          "metadata": {
            "tags": []
          },
          "execution_count": 26
        }
      ]
    },
    {
      "cell_type": "code",
      "metadata": {
        "id": "if-RY4aTd4CZ",
        "colab_type": "code",
        "outputId": "2bfa80c0-1d7f-4329-d58f-b6fbd9baccd7",
        "colab": {
          "base_uri": "https://localhost:8080/",
          "height": 282
        }
      },
      "source": [
        "val = len(df['Current fleet'])\n",
        "x = np.arange(0, val, 1)\n",
        "y= df.iloc[:, 0]\n",
        "plt.scatter(x, y)\n",
        "\n",
        "val = len(df['New Fleet'])\n",
        "x = np.arange(0, val, 1)\n",
        "y = df.iloc[:, 1]\n",
        "plt.scatter(x, y)\n",
        "\n",
        "print(\"Current Fleet = Blue   New Fleet = Orange\")"
      ],
      "execution_count": 0,
      "outputs": [
        {
          "output_type": "stream",
          "text": [
            "Current Fleet = Blue   New Fleet = Orange\n"
          ],
          "name": "stdout"
        },
        {
          "output_type": "display_data",
          "data": {
            "image/png": "[encoded data removed]",
            "text/plain": [
              "<Figure size 432x288 with 1 Axes>"
            ]
          },
          "metadata": {
            "tags": []
          }
        }
      ]
    },
    {
      "cell_type": "code",
      "metadata": {
        "id": "BAKyj983dwSM",
        "colab_type": "code",
        "outputId": "49cf2074-9160-47b1-d001-d665cbcef8d3",
        "colab": {
          "base_uri": "https://localhost:8080/",
          "height": 334
        }
      },
      "source": [
        "import matplotlib.pyplot as plt\n",
        "pd.DataFrame.hist(df)"
      ],
      "execution_count": 0,
      "outputs": [
        {
          "output_type": "execute_result",
          "data": {
            "text/plain": [
              "array([[<matplotlib.axes._subplots.AxesSubplot object at 0x7f81c56fd048>,\n",
              "        <matplotlib.axes._subplots.AxesSubplot object at 0x7f81c5613f98>]],\n",
              "      dtype=object)"
            ]
          },
          "metadata": {
            "tags": []
          },
          "execution_count": 36
        },
        {
          "output_type": "display_data",
          "data": {
            "image/png": "[encoded data removed]",
            "text/plain": [
              "<Figure size 432x288 with 2 Axes>"
            ]
          },
          "metadata": {
            "tags": []
          }
        }
      ]
    },
    {
      "cell_type": "code",
      "metadata": {
        "id": "wnudXXplkG8K",
        "colab_type": "code",
        "colab": {}
      },
      "source": [
        ""
      ],
      "execution_count": 0,
      "outputs": []
    }
  ]
}